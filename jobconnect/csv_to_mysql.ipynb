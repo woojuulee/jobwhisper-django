{
 "cells": [
  {
   "cell_type": "markdown",
   "metadata": {},
   "source": [
    "# 수집한 데이터를 DataBase에 저장하기\n",
    "회사 변수명\n",
    "        1. company_id\n",
    "        2. name\n",
    "        3. category\n",
    "        4. description\n",
    "        5. link\n",
    "        6. salary\n",
    "        7. logo\n",
    "        8. location\n",
    "        9. CEO\n",
    "\n"
   ]
  },
  {
   "cell_type": "code",
   "execution_count": 1,
   "metadata": {},
   "outputs": [],
   "source": [
    "import os, sys\n",
    "# PWD = os.getenv('PWD')\n",
    "PWD = os.path.abspath('.')\n",
    "\n",
    "PROJ_MISSING_MSG = \"\"\"Set an enviroment variable:\\n\n",
    "`DJANGO_PROJECT=your_project_name`\\n\n",
    "or call:\\n\n",
    "`init_django(your_project_name)`\n",
    "\"\"\"\n",
    "\n",
    "def init_django(project_name=None):\n",
    "    os.chdir(PWD)\n",
    "    project_name = project_name or os.environ.get('DJANGO_PROJECT') or None\n",
    "    if project_name == None:\n",
    "        raise Exception(PROJ_MISSING_MSG)\n",
    "    sys.path.insert(0, os.getenv('PWD'))\n",
    "    os.environ.setdefault('DJANGO_SETTINGS_MODULE', f'{project_name}.settings')\n",
    "    os.environ[\"DJANGO_ALLOW_ASYNC_UNSAFE\"] = \"true\"\n",
    "    import django\n",
    "    django.setup()"
   ]
  },
  {
   "cell_type": "code",
   "execution_count": 2,
   "metadata": {},
   "outputs": [],
   "source": [
    "init_django('jobconnect') #project name"
   ]
  },
  {
   "cell_type": "code",
   "execution_count": 3,
   "metadata": {},
   "outputs": [
    {
     "name": "stdout",
     "output_type": "stream",
     "text": [
      "Data imported successfully!\n"
     ]
    }
   ],
   "source": [
    "import csv\n",
    "from board.models import Board\n",
    "\n",
    "def import_data_from_csv():\n",
    "    with open('etc/company.csv', 'r', encoding='utf-8') as csvfile:\n",
    "        reader = csv.DictReader(csvfile)\n",
    "        for row in reader:\n",
    "            Board.objects.create(\n",
    "                id=row['company_id'],\n",
    "                name=row['name'],\n",
    "                category=row['category'],\n",
    "                description=row['description'],\n",
    "                link=row['link'],\n",
    "                salary= row['salary'],\n",
    "                logo= row['logo'],\n",
    "                location=row['location'],\n",
    "                ceo=row['CEO']\n",
    "            )\n",
    "        print('Data imported successfully!')\n",
    "\n",
    "if __name__ == \"__main__\":\n",
    "    import_data_from_csv()"
   ]
  },
  {
   "cell_type": "markdown",
   "metadata": {},
   "source": [
    "코멘트 변수명\n",
    "        1. job_category\n",
    "        2. loacation\n",
    "        3. status\n",
    "        4. created_at \n",
    "        5. title\n",
    "        6. content_pros\n",
    "        7. content_cons\n",
    "        8. content_hope\n",
    "        9. star\n",
    "        10. star_1\n",
    "        11. star_2\n",
    "        12. star_3\n",
    "        13. star_4\n",
    "        14. star_5"
   ]
  },
  {
   "cell_type": "code",
   "execution_count": 5,
   "metadata": {},
   "outputs": [
    {
     "name": "stdout",
     "output_type": "stream",
     "text": [
      "<_io.TextIOWrapper name='etc\\\\comment_101_200.csv' mode='r' encoding='utf-8'>\n",
      "Comment data imported successfully!\n"
     ]
    }
   ],
   "source": [
    "import csv\n",
    "import logging\n",
    "from board.models import Comment, Board\n",
    "\n",
    "# 이모지 및 유효성 검사를 위한 로그 설정\n",
    "logging.basicConfig(filename='import_comments.log', level=logging.DEBUG,\n",
    "                    format='%(asctime)s - %(levelname)s - %(message)s')\n",
    "\n",
    "def validate_string(s):\n",
    "    try:\n",
    "        s.encode(\"utf-8\")\n",
    "    except UnicodeEncodeError as e:\n",
    "        logging.error(f\"String validation error: {str(e)}\")\n",
    "        return False\n",
    "    return True\n",
    "\n",
    "def import_comment_data_from_csv():\n",
    "    board = Board.objects.all()\n",
    "    with open('etc\\comment_101_200.csv', 'r', encoding='utf-8') as csvfile:\n",
    "        print(csvfile)\n",
    "        reader = csv.DictReader(csvfile)\n",
    "        for row_num, row in enumerate(reader, 1):\n",
    "            try:\n",
    "                if row['status'] == \"현직원\":\n",
    "                    row['status'] = True\n",
    "                else:\n",
    "                    row['status'] = False\n",
    "                \n",
    "                # 이모지 및 문자열 유효성 검사\n",
    "                if not all(validate_string(row[field]) for field in ['title', 'content_pros', 'content_cons', 'content_hope']):\n",
    "                    logging.warning(f\"Row {row_num}: String validation failed. Skipping.\")\n",
    "                    continue\n",
    "                \n",
    "                Comment.objects.create(\n",
    "                    board=Board.objects.get(id=row['company_id']),\n",
    "                    job_category=row['job_category'],\n",
    "                    location=row['location'],\n",
    "                    status=row['status'],  \n",
    "                    is_delete=False,  \n",
    "                    title=row['title'],\n",
    "                    content_pros=row['content_pros'],\n",
    "                    content_cons=row['content_cons'],\n",
    "                    content_hope=row['content_hope'],\n",
    "                    star=int(row['star'][0]),\n",
    "                    star_1=int(row['star1'][0]),\n",
    "                    star_2=int(row['star2'][0]),\n",
    "                    star_3=int(row['star3'][0]),\n",
    "                    star_4=int(row['star4'][0]),\n",
    "                    star_5=int(row['star5'][0])\n",
    "                )\n",
    "            except Exception as e:\n",
    "                print(e)\n",
    "                break\n",
    "                # 일반적인 예외 처리 및 로깅\n",
    "                logging.error(f\"Row {row_num}: Unexpected error: {str(e)}\")\n",
    "        print('Comment data imported successfully!')\n",
    "\n",
    "if __name__ == \"__main__\":\n",
    "    import_comment_data_from_csv()\n"
   ]
  },
  {
   "cell_type": "code",
   "execution_count": null,
   "metadata": {},
   "outputs": [],
   "source": []
  }
 ],
 "metadata": {
  "kernelspec": {
   "display_name": "skkuai",
   "language": "python",
   "name": "python3"
  },
  "language_info": {
   "codemirror_mode": {
    "name": "ipython",
    "version": 3
   },
   "file_extension": ".py",
   "mimetype": "text/x-python",
   "name": "python",
   "nbconvert_exporter": "python",
   "pygments_lexer": "ipython3",
   "version": "3.9.18"
  },
  "orig_nbformat": 4
 },
 "nbformat": 4,
 "nbformat_minor": 2
}
